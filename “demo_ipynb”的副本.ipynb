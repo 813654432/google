{
  "nbformat": 4,
  "nbformat_minor": 0,
  "metadata": {
    "kernelspec": {
      "display_name": "Python 3",
      "language": "python",
      "name": "python3"
    },
    "language_info": {
      "codemirror_mode": {
        "name": "ipython",
        "version": 3
      },
      "file_extension": ".py",
      "mimetype": "text/x-python",
      "name": "python",
      "nbconvert_exporter": "python",
      "pygments_lexer": "ipython3",
      "version": "3.7.4"
    },
    "colab": {
      "name": "“demo.ipynb”的副本",
      "provenance": [],
      "include_colab_link": true
    }
  },
  "cells": [
    {
      "cell_type": "markdown",
      "metadata": {
        "id": "view-in-github",
        "colab_type": "text"
      },
      "source": [
        "<a href=\"https://colab.research.google.com/github/813654432/google/blob/main/%E2%80%9Cdemo_ipynb%E2%80%9D%E7%9A%84%E5%89%AF%E6%9C%AC.ipynb\" target=\"_parent\"><img src=\"https://colab.research.google.com/assets/colab-badge.svg\" alt=\"Open In Colab\"/></a>"
      ]
    },
    {
      "cell_type": "markdown",
      "metadata": {
        "pycharm": {},
        "id": "wO4F7umWDfbL"
      },
      "source": [
        "# Demo for Aspect-oriented Similarity between Research Papers\n",
        "\n",
        "### Download models & install dependencies"
      ]
    },
    {
      "cell_type": "code",
      "metadata": {
        "pycharm": {},
        "id": "k0alSX4TDfbs"
      },
      "source": [
        "!git clone https://github.com/malteos/aspect-document-similarity.git repo\n",
        "%cd repo"
      ],
      "execution_count": null,
      "outputs": []
    },
    {
      "cell_type": "code",
      "metadata": {
        "pycharm": {},
        "id": "aoO2mYlwDfbv"
      },
      "source": [
        "# Download models (scibert-scivocab-uncased, trained on first CV fold)\n",
        "!mkdir -p models/acl models/cord19\n",
        "!wget https://github.com/malteos/aspect-document-similarity/releases/download/1.0/acl_fold-1_scibert-scivocab-uncased.tar.gz    \n",
        "!tar -xzvf acl_fold-1_scibert-scivocab-uncased.tar.gz\n",
        "!mv scibert-scivocab-uncased models/acl\n",
        "\n",
        "!wget https://github.com/malteos/aspect-document-similarity/releases/download/1.0/cord19_fold-1_scibert-scivocab-uncased.tar.gz\n",
        "!tar -xzvf cord19_fold-1_scibert-scivocab-uncased.tar.gz\n",
        "!mv scibert-scivocab-uncased models/cord19\n",
        "\n",
        "!wget -O models/cord19/scibert-scivocab-uncased/vocab.txt https://github.com/malteos/aspect-document-similarity/releases/download/1.0/scibert-vocab.txt\n",
        "!cp models/cord19/scibert-scivocab-uncased/vocab.txt models/acl/scibert-scivocab-uncased/vocab.txt"
      ],
      "execution_count": null,
      "outputs": []
    },
    {
      "cell_type": "code",
      "metadata": {
        "pycharm": {},
        "id": "RN6Jt9vpDfbx"
      },
      "source": [
        "# Install dependencies (for colab)\n",
        "!pip install requests transformers==2.10.0\n",
        "\n",
        "# Install all dependencies\n",
        "#!pip install -r requirements.txt "
      ],
      "execution_count": null,
      "outputs": []
    },
    {
      "cell_type": "code",
      "metadata": {
        "pycharm": {},
        "id": "wJlhcYhlDfbz"
      },
      "source": [
        "from IPython.core.display import display, HTML\n",
        "from demo_utils import get_prediction"
      ],
      "execution_count": null,
      "outputs": []
    },
    {
      "cell_type": "markdown",
      "metadata": {
        "pycharm": {},
        "id": "T9y5zjWQDfb0"
      },
      "source": [
        "### Try your own papers\n",
        "\n",
        "1. Select model (either trained on ACL Anthology or CORD-19)\n",
        "2. Select input documents by paper IDs. \n",
        "\n",
        "All IDs from [Semantic Scholar API](https://api.semanticscholar.org/) are supported (DOI, ArXiv ID, PubMed ID, ACL ID)\n"
      ]
    },
    {
      "cell_type": "code",
      "metadata": {
        "pycharm": {},
        "id": "EujQcPSnDfb2"
      },
      "source": [
        "selected_model = 'acl'  #@param [\"acl\", \"cord19\"]\n",
        "from_id = '10.3115/1667583.1667640' #@param {type:\"string\"}\n",
        "to_id = '10.1145/1367497.1367545' #@param {type:\"string\"}"
      ],
      "execution_count": null,
      "outputs": []
    },
    {
      "cell_type": "code",
      "metadata": {
        "pycharm": {},
        "id": "GksfLE1zDfb3"
      },
      "source": [
        "# Perform predictions\n",
        "pred_scores, pred_labels, from_doc, to_doc = get_prediction(f'./models/{selected_model}/scibert-scivocab-uncased', from_id, to_id)\n",
        "\n",
        "display(HTML(f'<h3>Seed: <a href=\"{from_doc[\"url\"]}\">{from_doc[\"title\"]}</a></h3>'))\n",
        "display(HTML(f'<h3>Target: <a href=\"{to_doc[\"url\"]}\">{to_doc[\"title\"]}</a></h3>'))\n",
        "display(HTML(f'<h4>Predicted labels:</h4><pre>{\", \".join(pred_labels)}</pre>'))"
      ],
      "execution_count": null,
      "outputs": []
    }
  ]
}